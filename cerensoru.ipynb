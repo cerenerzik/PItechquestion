{
 "cells": [
  {
   "cell_type": "code",
   "execution_count": 1,
   "id": "a53fbf7a-245a-4ce1-b341-ff823aa3402a",
   "metadata": {},
   "outputs": [],
   "source": [
    "import pandas as pd\n",
    "\n",
    "pd.set_option('display.max_columns', None)\n",
    "pd.set_option('display.max_rows', None)\n",
    "pd.set_option('display.width', 500)\n",
    "# çıktının tek bir satırda olmasını sağlar.\n",
    "df = pd.read_csv(\"country_vaccination_stats.csv\")"
   ]
  },
  {
   "cell_type": "code",
   "execution_count": 3,
   "id": "0c954e54-a4ba-4911-921e-c648478cf1b7",
   "metadata": {},
   "outputs": [
    {
     "data": {
      "text/html": [
       "<div>\n",
       "<style scoped>\n",
       "    .dataframe tbody tr th:only-of-type {\n",
       "        vertical-align: middle;\n",
       "    }\n",
       "\n",
       "    .dataframe tbody tr th {\n",
       "        vertical-align: top;\n",
       "    }\n",
       "\n",
       "    .dataframe thead th {\n",
       "        text-align: right;\n",
       "    }\n",
       "</style>\n",
       "<table border=\"1\" class=\"dataframe\">\n",
       "  <thead>\n",
       "    <tr style=\"text-align: right;\">\n",
       "      <th></th>\n",
       "      <th>country</th>\n",
       "      <th>date</th>\n",
       "      <th>daily_vaccinations</th>\n",
       "      <th>vaccines</th>\n",
       "    </tr>\n",
       "  </thead>\n",
       "  <tbody>\n",
       "    <tr>\n",
       "      <th>0</th>\n",
       "      <td>Argentina</td>\n",
       "      <td>12/29/2020</td>\n",
       "      <td>NaN</td>\n",
       "      <td>Sputnik V</td>\n",
       "    </tr>\n",
       "    <tr>\n",
       "      <th>1</th>\n",
       "      <td>Argentina</td>\n",
       "      <td>12/30/2020</td>\n",
       "      <td>15656.0</td>\n",
       "      <td>Sputnik V</td>\n",
       "    </tr>\n",
       "    <tr>\n",
       "      <th>2</th>\n",
       "      <td>Argentina</td>\n",
       "      <td>12/31/2020</td>\n",
       "      <td>15656.0</td>\n",
       "      <td>Sputnik V</td>\n",
       "    </tr>\n",
       "    <tr>\n",
       "      <th>3</th>\n",
       "      <td>Argentina</td>\n",
       "      <td>1/1/2021</td>\n",
       "      <td>11070.0</td>\n",
       "      <td>Sputnik V</td>\n",
       "    </tr>\n",
       "    <tr>\n",
       "      <th>4</th>\n",
       "      <td>Argentina</td>\n",
       "      <td>1/2/2021</td>\n",
       "      <td>8776.0</td>\n",
       "      <td>Sputnik V</td>\n",
       "    </tr>\n",
       "    <tr>\n",
       "      <th>5</th>\n",
       "      <td>Argentina</td>\n",
       "      <td>1/3/2021</td>\n",
       "      <td>7400.0</td>\n",
       "      <td>Sputnik V</td>\n",
       "    </tr>\n",
       "    <tr>\n",
       "      <th>6</th>\n",
       "      <td>Argentina</td>\n",
       "      <td>1/4/2021</td>\n",
       "      <td>6483.0</td>\n",
       "      <td>Sputnik V</td>\n",
       "    </tr>\n",
       "    <tr>\n",
       "      <th>7</th>\n",
       "      <td>Argentina</td>\n",
       "      <td>1/5/2021</td>\n",
       "      <td>7984.0</td>\n",
       "      <td>Sputnik V</td>\n",
       "    </tr>\n",
       "    <tr>\n",
       "      <th>8</th>\n",
       "      <td>Argentina</td>\n",
       "      <td>1/6/2021</td>\n",
       "      <td>8173.0</td>\n",
       "      <td>Sputnik V</td>\n",
       "    </tr>\n",
       "    <tr>\n",
       "      <th>9</th>\n",
       "      <td>Argentina</td>\n",
       "      <td>1/7/2021</td>\n",
       "      <td>8363.0</td>\n",
       "      <td>Sputnik V</td>\n",
       "    </tr>\n",
       "  </tbody>\n",
       "</table>\n",
       "</div>"
      ],
      "text/plain": [
       "     country        date  daily_vaccinations   vaccines\n",
       "0  Argentina  12/29/2020                 NaN  Sputnik V\n",
       "1  Argentina  12/30/2020             15656.0  Sputnik V\n",
       "2  Argentina  12/31/2020             15656.0  Sputnik V\n",
       "3  Argentina    1/1/2021             11070.0  Sputnik V\n",
       "4  Argentina    1/2/2021              8776.0  Sputnik V\n",
       "5  Argentina    1/3/2021              7400.0  Sputnik V\n",
       "6  Argentina    1/4/2021              6483.0  Sputnik V\n",
       "7  Argentina    1/5/2021              7984.0  Sputnik V\n",
       "8  Argentina    1/6/2021              8173.0  Sputnik V\n",
       "9  Argentina    1/7/2021              8363.0  Sputnik V"
      ]
     },
     "execution_count": 3,
     "metadata": {},
     "output_type": "execute_result"
    }
   ],
   "source": [
    "df.head(10)"
   ]
  },
  {
   "cell_type": "code",
   "execution_count": 7,
   "id": "fc49f44f-c080-478f-b9bd-882383fdbf32",
   "metadata": {},
   "outputs": [
    {
     "data": {
      "text/plain": [
       "country                 0\n",
       "date                  650\n",
       "daily_vaccinations    689\n",
       "vaccines              650\n",
       "dtype: int64"
      ]
     },
     "execution_count": 7,
     "metadata": {},
     "output_type": "execute_result"
    }
   ],
   "source": [
    "med = float(df[\"daily_vaccinations\"].median())\n",
    "df.isnull().sum()"
   ]
  },
  {
   "cell_type": "code",
   "execution_count": 8,
   "id": "1a7b13e1-1ab3-4396-bf60-ff047a595fac",
   "metadata": {},
   "outputs": [],
   "source": [
    "for i in range(len(df)):\n",
    "    if len(df.iloc[i,0]) > 30:\n",
    "        av = df.iloc[i,0].split(\",\")\n",
    "        df.iloc[i,0] = av[0]\n",
    "        df.iloc[i,1] = av[1]\n",
    "        if av[2] == \"\":\n",
    "            df.iloc[i, 2] = None\n",
    "        else:\n",
    "            df.iloc[i, 2] = float(av[2])\n",
    "        df.iloc[i,3] = av[3].split(\",\")[0]\n"
   ]
  },
  {
   "cell_type": "code",
   "execution_count": 9,
   "id": "31ff04dc-6769-4a75-a3cd-91243e6c6164",
   "metadata": {},
   "outputs": [
    {
     "data": {
      "text/plain": [
       "country                0\n",
       "date                   0\n",
       "daily_vaccinations    60\n",
       "vaccines               0\n",
       "dtype: int64"
      ]
     },
     "execution_count": 9,
     "metadata": {},
     "output_type": "execute_result"
    }
   ],
   "source": [
    "df.isnull().sum()"
   ]
  },
  {
   "cell_type": "markdown",
   "id": "b1931124-c62f-4eee-aaec-8c834945d4d1",
   "metadata": {},
   "source": [
    "# SORU 1"
   ]
  },
  {
   "cell_type": "code",
   "execution_count": 16,
   "id": "cf99a44e-60d9-4df4-9f01-fe87222a9a32",
   "metadata": {},
   "outputs": [],
   "source": [
    "zerodf_ = df[\"daily_vaccinations\"].fillna(0)"
   ]
  },
  {
   "cell_type": "markdown",
   "id": "5a28e4d2-60d7-4ee9-aee4-9d8885f5bac9",
   "metadata": {},
   "source": [
    "# SORU 2"
   ]
  },
  {
   "cell_type": "code",
   "execution_count": 20,
   "id": "8f70d9ee-7ed3-4b92-aff3-d2e74906cad4",
   "metadata": {},
   "outputs": [
    {
     "data": {
      "text/html": [
       "<div>\n",
       "<style scoped>\n",
       "    .dataframe tbody tr th:only-of-type {\n",
       "        vertical-align: middle;\n",
       "    }\n",
       "\n",
       "    .dataframe tbody tr th {\n",
       "        vertical-align: top;\n",
       "    }\n",
       "\n",
       "    .dataframe thead th {\n",
       "        text-align: right;\n",
       "    }\n",
       "</style>\n",
       "<table border=\"1\" class=\"dataframe\">\n",
       "  <thead>\n",
       "    <tr style=\"text-align: right;\">\n",
       "      <th></th>\n",
       "      <th>country</th>\n",
       "      <th>median</th>\n",
       "    </tr>\n",
       "  </thead>\n",
       "  <tbody>\n",
       "    <tr>\n",
       "      <th>58</th>\n",
       "      <td>United States</td>\n",
       "      <td>378253.0</td>\n",
       "    </tr>\n",
       "    <tr>\n",
       "      <th>8</th>\n",
       "      <td>China</td>\n",
       "      <td>276786.0</td>\n",
       "    </tr>\n",
       "    <tr>\n",
       "      <th>24</th>\n",
       "      <td>India</td>\n",
       "      <td>173922.0</td>\n",
       "    </tr>\n",
       "  </tbody>\n",
       "</table>\n",
       "</div>"
      ],
      "text/plain": [
       "          country    median\n",
       "58  United States  378253.0\n",
       "8           China  276786.0\n",
       "24          India  173922.0"
      ]
     },
     "execution_count": 20,
     "metadata": {},
     "output_type": "execute_result"
    }
   ],
   "source": [
    "meddf_ =  df[\"daily_vaccinations\"].fillna(med)\n",
    "al = dfmedd[[\"country\",\"daily_vaccinations\"]].groupby(\"country\").agg({\"median\"}).reset_index()\n",
    "al.columns = ['country', 'median']\n",
    "al.sort_values(\"median\", ascending=False).head(3)"
   ]
  },
  {
   "cell_type": "markdown",
   "id": "d9ad1753-69b7-4eff-bbf2-3728f18a57cf",
   "metadata": {},
   "source": [
    "# SORU 3"
   ]
  },
  {
   "cell_type": "code",
   "execution_count": 18,
   "id": "fdb619ba-abfd-4dc9-a0c3-4bf30bdb64ff",
   "metadata": {},
   "outputs": [
    {
     "data": {
      "text/plain": [
       "daily_vaccinations    1477470.0\n",
       "dtype: float64"
      ]
     },
     "execution_count": 18,
     "metadata": {},
     "output_type": "execute_result"
    }
   ],
   "source": [
    "dfmedd.loc[df[\"date\"]==\"1/6/2021\",[\"daily_vaccinations\"]].sum()"
   ]
  },
  {
   "cell_type": "markdown",
   "id": "7b1eb711-2643-42ca-8d01-237a5b48b6a3",
   "metadata": {},
   "source": [
    "# SORU 4"
   ]
  },
  {
   "cell_type": "code",
   "execution_count": null,
   "id": "caf7ad95-c133-4d09-8e9a-a350141ad448",
   "metadata": {},
   "outputs": [],
   "source": [
    "dfzero = df.copy()\n",
    "dfzero[\"daily_vaccinations\"] = zerodf_\n",
    "\n",
    "dfmedd = df.copy()\n",
    "dfmedd[\"daily_vaccinations\"] = meddf_"
   ]
  },
  {
   "cell_type": "code",
   "execution_count": null,
   "id": "b93c2037-b702-4650-bdc9-baec4060b0f0",
   "metadata": {},
   "outputs": [],
   "source": []
  },
  {
   "cell_type": "code",
   "execution_count": null,
   "id": "110a21cb-c61d-40b3-ab29-adcdab0a226b",
   "metadata": {},
   "outputs": [],
   "source": []
  }
 ],
 "metadata": {
  "kernelspec": {
   "display_name": "Python 3 (ipykernel)",
   "language": "python",
   "name": "python3"
  },
  "language_info": {
   "codemirror_mode": {
    "name": "ipython",
    "version": 3
   },
   "file_extension": ".py",
   "mimetype": "text/x-python",
   "name": "python",
   "nbconvert_exporter": "python",
   "pygments_lexer": "ipython3",
   "version": "3.9.7"
  }
 },
 "nbformat": 4,
 "nbformat_minor": 5
}
